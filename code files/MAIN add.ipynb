{
  "cells": [
    {
      "cell_type": "code",
      "execution_count": 1,
      "metadata": {
        "id": "XzOtxKFOLkh0"
      },
      "outputs": [],
      "source": [
        "import cv2\n",
        "\n",
        "# Load the cascade\n",
        "face_cascade = cv2.CascadeClassifier('haarcascade_frontalface_default.xml')\n",
        "\n",
        "# To capture video from webcam.\n",
        "cap = cv2.VideoCapture(0)\n",
        "# To use a video file as input\n",
        "# cap = cv2.VideoCapture('filename.mp4')\n"
      ]
    },
    {
      "cell_type": "code",
      "execution_count": 2,
      "metadata": {
        "colab": {
          "base_uri": "https://localhost:8080/",
          "height": 268
        },
        "id": "VwXYiO1LMi1v",
        "outputId": "35c7a77d-01bd-482d-fd82-d9ba9a5eeb90"
      },
      "outputs": [
        {
          "name": "stderr",
          "output_type": "stream",
          "text": [
            "2023-11-23 15:33:55.763 Python[9019:432652] WARNING: Secure coding is not enabled for restorable state! Enable secure coding by implementing NSApplicationDelegate.applicationSupportsSecureRestorableState: and returning YES.\n"
          ]
        },
        {
          "ename": "KeyboardInterrupt",
          "evalue": "",
          "output_type": "error",
          "traceback": [
            "\u001b[0;31m---------------------------------------------------------------------------\u001b[0m",
            "\u001b[0;31mKeyboardInterrupt\u001b[0m                         Traceback (most recent call last)",
            "\u001b[1;32m/Users/parththakkar/Downloads/Parth Thakkar/SEM 7/Project Major/Main files/PROJECT/facedetection-master/MAIN add.ipynb Cell 2\u001b[0m line \u001b[0;36m<cell line: 11>\u001b[0;34m()\u001b[0m\n\u001b[1;32m     <a href='vscode-notebook-cell:/Users/parththakkar/Downloads/Parth%20Thakkar/SEM%207/Project%20Major/Main%20files/PROJECT/facedetection-master/MAIN%20add.ipynb#W1sZmlsZQ%3D%3D?line=25'>26</a>\u001b[0m roi_gray \u001b[39m=\u001b[39m gray[y:y\u001b[39m+\u001b[39mh, x:x\u001b[39m+\u001b[39mw]\n\u001b[1;32m     <a href='vscode-notebook-cell:/Users/parththakkar/Downloads/Parth%20Thakkar/SEM%207/Project%20Major/Main%20files/PROJECT/facedetection-master/MAIN%20add.ipynb#W1sZmlsZQ%3D%3D?line=26'>27</a>\u001b[0m roi_color \u001b[39m=\u001b[39m img[y:y\u001b[39m+\u001b[39mh, x:x\u001b[39m+\u001b[39mw]\n\u001b[0;32m---> <a href='vscode-notebook-cell:/Users/parththakkar/Downloads/Parth%20Thakkar/SEM%207/Project%20Major/Main%20files/PROJECT/facedetection-master/MAIN%20add.ipynb#W1sZmlsZQ%3D%3D?line=27'>28</a>\u001b[0m eyes \u001b[39m=\u001b[39m eye_cascade\u001b[39m.\u001b[39;49mdetectMultiScale(roi_gray)\n\u001b[1;32m     <a href='vscode-notebook-cell:/Users/parththakkar/Downloads/Parth%20Thakkar/SEM%207/Project%20Major/Main%20files/PROJECT/facedetection-master/MAIN%20add.ipynb#W1sZmlsZQ%3D%3D?line=29'>30</a>\u001b[0m \u001b[39m# Draw rectangles around eyes\u001b[39;00m\n\u001b[1;32m     <a href='vscode-notebook-cell:/Users/parththakkar/Downloads/Parth%20Thakkar/SEM%207/Project%20Major/Main%20files/PROJECT/facedetection-master/MAIN%20add.ipynb#W1sZmlsZQ%3D%3D?line=30'>31</a>\u001b[0m \u001b[39mfor\u001b[39;00m (ex, ey, ew, eh) \u001b[39min\u001b[39;00m eyes:\n",
            "\u001b[0;31mKeyboardInterrupt\u001b[0m: "
          ]
        }
      ],
      "source": [
        "import cv2\n",
        "\n",
        "# Load the cascades for face, eye, and smile detection\n",
        "face_cascade = cv2.CascadeClassifier('haarcascade_frontalface_default.xml')\n",
        "eye_cascade = cv2.CascadeClassifier('haarcascade_eye.xml')\n",
        "smile_cascade = cv2.CascadeClassifier('haarcascade_smile.xml')\n",
        "\n",
        "# To capture video from webcam\n",
        "cap = cv2.VideoCapture(0)\n",
        "\n",
        "while True:\n",
        "    # Read the frame\n",
        "    _, img = cap.read()\n",
        "\n",
        "    # Convert to grayscale\n",
        "    gray = cv2.cvtColor(img, cv2.COLOR_BGR2GRAY)\n",
        "\n",
        "    # Detect faces\n",
        "    faces = face_cascade.detectMultiScale(gray, 1.1, 4)\n",
        "\n",
        "    # Draw rectangles around faces\n",
        "    for (x, y, w, h) in faces:\n",
        "        cv2.rectangle(img, (x, y), (x+w, y+h), (255, 0, 0), 2)\n",
        "\n",
        "        # Detect eyes within each face\n",
        "        roi_gray = gray[y:y+h, x:x+w]\n",
        "        roi_color = img[y:y+h, x:x+w]\n",
        "        eyes = eye_cascade.detectMultiScale(roi_gray)\n",
        "\n",
        "        # Draw rectangles around eyes\n",
        "        for (ex, ey, ew, eh) in eyes:\n",
        "            cv2.rectangle(roi_color, (ex, ey), (ex+ew, ey+eh), (0, 255, 0), 2)\n",
        "\n",
        "        # Detect smiles within each face\n",
        "        smiles = smile_cascade.detectMultiScale(roi_gray, 1.1, 20)\n",
        "\n",
        "        # Draw rectangles around smiles\n",
        "        for (sx, sy, sw, sh) in smiles:\n",
        "            cv2.rectangle(roi_color, (sx, sy), (sx+sw, sy+sh), (0, 0, 255), 2)\n",
        "\n",
        "    # Display the resulting frame\n",
        "    cv2.imshow('img', img)\n",
        "\n",
        "    # Stop if escape key is pressed\n",
        "    k = cv2.waitKey(30) & 0xff\n",
        "    if k == 27:\n",
        "        break\n",
        "\n",
        "# Release the VideoCapture object\n",
        "cap.release()\n",
        "cv2.destroyAllWindows()\n"
      ]
    },
    {
      "cell_type": "code",
      "execution_count": 5,
      "metadata": {
        "colab": {
          "base_uri": "https://localhost:8080/"
        },
        "id": "kki4bJbgNFR4",
        "outputId": "3b25761a-9fa0-4b55-ac9a-a6160fd280df"
      },
      "outputs": [
        {
          "name": "stdout",
          "output_type": "stream",
          "text": [
            "Requirement already satisfied: opencv-contrib-python in /usr/local/lib/python3.10/dist-packages (4.8.0.76)\n",
            "Requirement already satisfied: numpy>=1.21.2 in /usr/local/lib/python3.10/dist-packages (from opencv-contrib-python) (1.23.5)\n"
          ]
        }
      ],
      "source": [
        "!pip install opencv-contrib-python\n"
      ]
    },
    {
      "cell_type": "code",
      "execution_count": 6,
      "metadata": {
        "colab": {
          "base_uri": "https://localhost:8080/"
        },
        "id": "XucofSnwNJmP",
        "outputId": "fc290d67-db6e-45bf-e76e-7479d7cf9b4b"
      },
      "outputs": [
        {
          "name": "stdout",
          "output_type": "stream",
          "text": [
            "4.8.0\n"
          ]
        }
      ],
      "source": [
        "import cv2\n",
        "print(cv2.__version__)\n"
      ]
    },
    {
      "cell_type": "code",
      "execution_count": null,
      "metadata": {
        "id": "ezk-rol_Lo7M"
      },
      "outputs": [],
      "source": [
        "from google.colab import drive\n",
        "drive.mount('/content/drive')"
      ]
    }
  ],
  "metadata": {
    "colab": {
      "provenance": []
    },
    "kernelspec": {
      "display_name": "Python 3",
      "name": "python3"
    },
    "language_info": {
      "codemirror_mode": {
        "name": "ipython",
        "version": 3
      },
      "file_extension": ".py",
      "mimetype": "text/x-python",
      "name": "python",
      "nbconvert_exporter": "python",
      "pygments_lexer": "ipython3",
      "version": "3.10.6"
    }
  },
  "nbformat": 4,
  "nbformat_minor": 0
}
